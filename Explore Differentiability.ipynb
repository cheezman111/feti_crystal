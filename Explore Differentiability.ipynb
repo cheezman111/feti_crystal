{
 "cells": [
  {
   "cell_type": "code",
   "execution_count": 3,
   "metadata": {},
   "outputs": [],
   "source": [
    "from ase                        import Atoms\n",
    "from ase.visualize              import view\n",
    "import matplotlib.pyplot            as plt\n",
    "import graphdot.kernel.molecular    as gkern\n",
    "import graphdot\n",
    "import seaborn                      as sns\n",
    "import numpy                        as np\n",
    "import timeit\n",
    "import pandas                       as pd\n",
    "import scipy\n",
    "import sklearn.linear_model\n",
    "import random\n",
    "import pickle"
   ]
  },
  {
   "cell_type": "code",
   "execution_count": 2,
   "metadata": {},
   "outputs": [],
   "source": [
    "# import data from feti_filtered.dat\n",
    "with open(\"feti_graphs.dat\", \"rb\") as input_file:\n",
    "    graphs = pickle.load(input_file)"
   ]
  },
  {
   "cell_type": "code",
   "execution_count": 4,
   "metadata": {},
   "outputs": [],
   "source": [
    "# returns a normalized k matrix given a set of hyperparameters.\n",
    "def hyper_to_k_sim(nu, lambda_h):\n",
    "    zeta = 1\n",
    "    s = 1\n",
    "    # try higher q for shorter mean path lengths\n",
    "    q = .2\n",
    "    # use kernel from atomization paper\n",
    "    tang_kernel = gkern.Tang2019MolecularKernel(\n",
    "                        stopping_probability=q,\n",
    "                        starting_probability=lambda x, y: s,\n",
    "                        element_prior=nu,\n",
    "                        edge_length_scale=lambda_h)\n",
    "    k = tang_kernel(graphs[:50], lmin=1)\n",
    "    d = np.diag(k)**-0.5\n",
    "    k_sim = np.diag(d).dot(k).dot(np.diag(d))\n",
    "\n",
    "    return k_sim"
   ]
  },
  {
   "cell_type": "code",
   "execution_count": 5,
   "metadata": {},
   "outputs": [],
   "source": [
    "def k_sim_to_variance(k_sim):\n",
    "    flat = k_sim.flatten()\n",
    "    return np.var(flat)\n",
    "\n",
    "def k_sim_to_mean(k_sim):\n",
    "    flat = k_sim.flatten()\n",
    "    return np.mean(flat)"
   ]
  },
  {
   "cell_type": "code",
   "execution_count": 8,
   "metadata": {},
   "outputs": [
    {
     "data": {
      "text/plain": [
       "<matplotlib.axes._subplots.AxesSubplot at 0x7f8394f5b710>"
      ]
     },
     "execution_count": 8,
     "metadata": {},
     "output_type": "execute_result"
    },
    {
     "data": {
      "image/png": "[encoded data removed]",
      "text/plain": [
       "<Figure size 432x288 with 2 Axes>"
      ]
     },
     "metadata": {
      "needs_background": "light"
     },
     "output_type": "display_data"
    }
   ],
   "source": [
    "nu_s = [.294,.297,.300,.303,.306]\n",
    "lambda_s = [.098,.099,.100,.101,.102]\n",
    "\n",
    "k_sim_matrix = []\n",
    "var_matrix = []\n",
    "mean_matrix=[]\n",
    "for nu in nu_s:\n",
    "    k_sim_matrix.append([])\n",
    "    var_matrix.append([])\n",
    "    mean_matrix.append([])\n",
    "    for lambda_h in lambda_s:\n",
    "        k_sim = hyper_to_k_sim(nu, lambda_h)\n",
    "        k_sim_matrix[-1].append(k_sim)\n",
    "        flat = k_sim.flatten()\n",
    "        var = np.var(flat)\n",
    "        var_matrix[-1].append(var)\n",
    "        mean= np.mean(flat)\n",
    "        mean_matrix[-1].append(mean)\n",
    "        \n",
    "sns.heatmap(mean_matrix, square=True,cmap=\"YlGnBu\")"
   ]
  },
  {
   "cell_type": "code",
   "execution_count": 7,
   "metadata": {},
   "outputs": [
    {
     "data": {
      "text/plain": [
       "[[0.9997167119665915,\n",
       "  0.9997183088586731,\n",
       "  0.9997198935563277,\n",
       "  0.9997214940128156,\n",
       "  0.9997230727114566],\n",
       " [0.9997174132425893,\n",
       "  0.9997190033933523,\n",
       "  0.9997205969996912,\n",
       "  0.9997221858160515,\n",
       "  0.999723752197345],\n",
       " [0.9997363254989614,\n",
       "  0.9997378709883553,\n",
       "  0.9997394104042694,\n",
       "  0.9997409477979814,\n",
       "  0.9997424753855204],\n",
       " [0.9997368524385256,\n",
       "  0.9997383834672432,\n",
       "  0.9997399398853392,\n",
       "  0.9997414753701048,\n",
       "  0.9997429994558606],\n",
       " [0.9997373599337614,\n",
       "  0.9997389099775135,\n",
       "  0.9997404512945719,\n",
       "  0.999741969975732,\n",
       "  0.9997435144820062]]"
      ]
     },
     "execution_count": 7,
     "metadata": {},
     "output_type": "execute_result"
    }
   ],
   "source": [
    "mean_matrix"
   ]
  },
  {
   "cell_type": "code",
   "execution_count": null,
   "metadata": {},
   "outputs": [],
   "source": []
  }
 ],
 "metadata": {
  "kernelspec": {
   "display_name": "Python 3",
   "language": "python",
   "name": "python3"
  },
  "language_info": {
   "codemirror_mode": {
    "name": "ipython",
    "version": 3
   },
   "file_extension": ".py",
   "mimetype": "text/x-python",
   "name": "python",
   "nbconvert_exporter": "python",
   "pygments_lexer": "ipython3",
   "version": "3.6.10"
  }
 },
 "nbformat": 4,
 "nbformat_minor": 4
}
